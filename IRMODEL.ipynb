{
 "cells": [
  {
   "cell_type": "markdown",
   "metadata": {},
   "source": [
    "#### NEHA SHARMA  - ROLL_NO 230984036"
   ]
  },
  {
   "cell_type": "markdown",
   "metadata": {},
   "source": [
    "##### IR system based on the vector space model"
   ]
  },
  {
   "cell_type": "markdown",
   "metadata": {},
   "source": [
    "**Recommendation Systems using Vector space model**:\n",
    "- Recommendation systems to suggest similar items (e.g., movies). By identifying the most similar movies based on cosine similarity, we can recommend movies with similar genres, or keywords.\n",
    "- The given code is used to recommend top-5 movies based on title using Vector space model.\n",
    "- Here I have used the **TfidfVectorizer and cosine_similarity** "
   ]
  },
  {
   "cell_type": "markdown",
   "metadata": {},
   "source": [
    "so firstly we need to import necessary libraries "
   ]
  },
  {
   "cell_type": "markdown",
   "metadata": {},
   "source": [
    "- pandas : This is used for data manipulation and analysis. It is commonly used for reading, writing, and processing datasets in tabular formats.\n",
    "- sklearn.feature_extraction.text.TfidfVectorizer: This module provides a way to convert a collection of text documents into a matrix of TF-IDF features. TF-IDF (Term Frequency-Inverse Document Frequency) is a common technique for measuring the importance of words in a document or set of documents.\n",
    "- from sklearn.metrics.pairwise import cosine_similarity: This import statement brings the cosine_similarity function into Python environment, allowing to use it to measure similarity between pairs of vectors."
   ]
  },
  {
   "cell_type": "code",
   "execution_count": 1,
   "metadata": {},
   "outputs": [
    {
     "name": "stderr",
     "output_type": "stream",
     "text": [
      "C:\\Users\\praso\\AppData\\Local\\Temp\\ipykernel_20900\\2565448365.py:7: DtypeWarning: Columns (10) have mixed types. Specify dtype option on import or set low_memory=False.\n",
      "  metadata = pd.read_csv('movies_metadata.csv')\n"
     ]
    }
   ],
   "source": [
    "import pandas as pd\n",
    "from sklearn.feature_extraction.text import TfidfVectorizer\n",
    "from sklearn.metrics.pairwise import cosine_similarity\n",
    "\n",
    "# Load the datasets\n",
    "keywords = pd.read_csv('keywords.csv')\n",
    "metadata = pd.read_csv('movies_metadata.csv')\n",
    "\n"
   ]
  },
  {
   "cell_type": "markdown",
   "metadata": {},
   "source": [
    " **Convert ID to String**:\n",
    "- metadata['id'] = metadata['id'].astype(str): This step converts the 'id' column in the metadata DataFrame to a string type, ensuring consistency. This is useful when we intend to merge datasets on a common field where data types must match.\n",
    "- keywords['id'] = keywords['id'].astype(str): Similarly, this converts the 'id' column in the keywords DataFrame to a string.\n",
    "**Merging DataFrames**:\n",
    "- movies = metadata.merge(keywords, on='id'): This merges the metadata and keywords DataFrames based on the 'id' column. After merging, the resulting movies DataFrame contains data from both DataFrames for matching IDs.\n",
    "**Filling Missing Values**:\n",
    "- movies['overview'] = movies['overview'].fillna(''): Fills missing values in the 'overview' column with empty strings. This approach is often used when dealing with text data to avoid issues with operations that require non-null values, such as TF-IDF vectorization.\n",
    "- movies['keywords'] = movies['keywords'].fillna(''): This fills missing values in the 'keywords' column with empty strings."
   ]
  },
  {
   "cell_type": "code",
   "execution_count": 2,
   "metadata": {},
   "outputs": [],
   "source": [
    "# Perform necessary data preprocessing\n",
    "metadata['id'] = metadata['id'].astype(str)  # Convert id to string for consistency\n",
    "keywords['id'] = keywords['id'].astype(str)\n",
    "movies = metadata.merge(keywords, on='id')\n",
    "\n",
    "# Fill missing values with empty strings for TF-IDF vectorizer\n",
    "movies['overview'] = movies['overview'].fillna('')\n",
    "movies['keywords'] = movies['keywords'].fillna('')\n",
    "\n"
   ]
  },
  {
   "cell_type": "markdown",
   "metadata": {},
   "source": [
    "**TfidfVectorizer with Stop Words**:\n",
    "- tfidf_vectorizer = TfidfVectorizer(stop_words='english'): This initializes a TfidfVectorizer with English stop words removed. Stop words are common words (like \"the\", \"and\", \"is\") that typically do not add significant meaning and can be excluded to reduce noise in text analysis.\n",
    "**Creating the TF-IDF Matrix**:\n",
    "- tfidf_matrix = tfidf_vectorizer.fit_transform(movies['overview'] + ' ' + movies['keywords']): This line concatenates the 'overview' and 'keywords' columns into a single text string for each movie and applies TF-IDF vectorization.\n",
    "- The fit_transform method computes the TF-IDF values for each term and converts the text data into a sparse matrix, where each row represents a movie and each column represents a term with its TF-IDF score."
   ]
  },
  {
   "cell_type": "markdown",
   "metadata": {},
   "source": [
    "**Cosine Similarity Calculation**:\n",
    "- cosine_sim = cosine_similarity(tfidf_matrix, tfidf_matrix): This computes the cosine similarity between all pairs of movies based on the TF-IDF matrix. The result is a square matrix where the value at row i, column j indicates the similarity between movie i and movie j."
   ]
  },
  {
   "cell_type": "code",
   "execution_count": 3,
   "metadata": {},
   "outputs": [],
   "source": [
    "\n",
    "tfidf_vectorizer = TfidfVectorizer(stop_words='english')\n",
    "\n",
    "tfidf_matrix = tfidf_vectorizer.fit_transform(movies['overview'] + ' ' + movies['keywords'])\n",
    "\n",
    "cosine_sim = cosine_similarity(tfidf_matrix, tfidf_matrix)\n",
    "\n",
    "\n"
   ]
  },
  {
   "cell_type": "markdown",
   "metadata": {},
   "source": [
    "- **Case-Insensitive Title Matching**: Converts the input title and the 'title' column to lowercase for case-insensitive comparison.\n",
    "- **Title Existence Check**: Checks if the provided title exists in the movies dataset. If it doesn't, returns an appropriate message.\n",
    "- **Index Out-of-Bounds Handling**: Uses a try-except block to catch IndexError in case the index retrieval fails.\n",
    "Returning Results: If everything goes smoothly, the function returns a list of recommended movie titles. Otherwise, it provides a meaningful error message."
   ]
  },
  {
   "cell_type": "code",
   "execution_count": 22,
   "metadata": {},
   "outputs": [
    {
     "name": "stdout",
     "output_type": "stream",
     "text": [
      "Recommendations:\n",
      "Superman Returns\n",
      "Superman II\n",
      "Superman IV: The Quest for Peace\n",
      "Atom Man vs Superman\n",
      "All Star Superman\n"
     ]
    }
   ],
   "source": [
    "def get_recommendations(title, cosine_sim, movies, top_n=5):\n",
    "\n",
    "    title = title.lower()\n",
    "    \n",
    "\n",
    "    if not any(movies['title'].str.lower() == title):\n",
    "    \n",
    "        return f\"Movie title '{title}' not found in the dataset.\"\n",
    "    \n",
    "    # Get the index of the movie that matches the title\n",
    "    try:\n",
    "        idx = movies[movies['title'].str.lower() == title].index[0]\n",
    "    except IndexError:\n",
    "        return f\"Error: Unable to find index for the given title '{title}'.\"\n",
    "\n",
    "    # Pairwise similarity scores of all movies with that movie\n",
    "    sim_scores = list(enumerate(cosine_sim[idx]))\n",
    "\n",
    "    # Sort the movies based on the similarity scores\n",
    "    sim_scores = sorted(sim_scores, key=lambda x: x[1], reverse=True)\n",
    "\n",
    "    # top N most similar movies \n",
    "    sim_scores = sim_scores[1:top_n + 1]\n",
    "\n",
    "    # Get the movie indices\n",
    "    movie_indices = [i[0] for i in sim_scores]\n",
    "\n",
    "    # Return the titles of the top N most similar movies\n",
    "    return movies['title'].iloc[movie_indices].tolist()\n",
    "\n",
    "title = 'Superman'\n",
    "recommendations = get_recommendations(title, cosine_sim, movies, top_n=5)\n",
    "\n",
    "if isinstance(recommendations, list):\n",
    "    print(\"Recommendations:\")\n",
    "    for movie in recommendations:\n",
    "        print(movie)  \n",
    "else:\n",
    "    print(recommendations)  \n"
   ]
  },
  {
   "cell_type": "markdown",
   "metadata": {},
   "source": [
    "The get_recommendations function appears to be a useful tool for providing movie recommendations based on cosine similarity. "
   ]
  },
  {
   "cell_type": "markdown",
   "metadata": {},
   "source": []
  }
 ],
 "metadata": {
  "kernelspec": {
   "display_name": "Python 3",
   "language": "python",
   "name": "python3"
  },
  "language_info": {
   "codemirror_mode": {
    "name": "ipython",
    "version": 3
   },
   "file_extension": ".py",
   "mimetype": "text/x-python",
   "name": "python",
   "nbconvert_exporter": "python",
   "pygments_lexer": "ipython3",
   "version": "3.11.8"
  }
 },
 "nbformat": 4,
 "nbformat_minor": 2
}
